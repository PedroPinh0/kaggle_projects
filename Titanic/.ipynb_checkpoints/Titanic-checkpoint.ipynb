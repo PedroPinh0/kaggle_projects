{
 "cells": [
  {
   "cell_type": "markdown",
   "metadata": {},
   "source": [
    "# 0. Introdução\n",
    "\n",
    "**Created by:** Pedro V. Pinho N.\n",
    "\n",
    "**Date:** 05/03/2020\n",
    "\n",
    "**Contact:** peu.vpn@gmail.com\n",
    "\n",
    "Nesse notebook está registrado a minha primeira tentativa com as competições de Machine Learning do Kaggle. O projeto registado aqui é referente a competição **\"Titanic: Machine Learning from Disaster\"**, https://www.kaggle.com/c/titanic, é uma competição de nível iniciante focada em Análise Exploratória de Dados e Engenharia de Parâmetros com o objetivo de desenvolver modelos preditivos para prever quais passageiros irão sobreviver ao acidente, baseado em parâmetros como ***idade**, **sexo**, **classe social**, **quantidade de filhos a bordo**, etc.\n",
    "\n",
    "Diversos outros kernels foram extensivamente consultados para auxiliar na contrução desse notebook. De todos, dois deles devem ser mencionados devido sua grande importância: **Titanic - Advanced Feature Engineering Tutorial** (https://www.kaggle.com/gunesevitan/titanic-advanced-feature-engineering-tutorial) e **Titanic: on the top with a simple model** (https://www.kaggle.com/goldens/titanic-on-the-top-with-a-simple-model). Muitas informações são tiradas da enciclopedia do Titanic (https://www.encyclopedia-titanica.org/). Este notebook é a minha forma de fazer proveitos da conquista e expertise de outros grandes Data Scientists, afim de que eu possa aperfeiçoar meus conhecimentos nessa crescente área de Análise de Dados."
   ]
  },
  {
   "cell_type": "markdown",
   "metadata": {},
   "source": [
    "## 0.1. Pacotes Utilizados"
   ]
  },
  {
   "cell_type": "code",
   "execution_count": 23,
   "metadata": {},
   "outputs": [],
   "source": [
    "import numpy as np\n",
    "import pandas as pd\n",
    "import matplotlib.pyplot as plt\n",
    "import collections as cl"
   ]
  },
  {
   "cell_type": "markdown",
   "metadata": {},
   "source": [
    "## 0.2. Leitura dos dados de treinamento"
   ]
  },
  {
   "cell_type": "code",
   "execution_count": 24,
   "metadata": {},
   "outputs": [
    {
     "name": "stdout",
     "output_type": "stream",
     "text": [
      "Formato do grupo de treinamento = (891, 12)\n",
      "Formato do grupo de teste = (418, 11)\n",
      "\n"
     ]
    }
   ],
   "source": [
    "# Concatena dois DataFrames\n",
    "def concat_df(df1, df2):\n",
    "    return pd.concat([df1,df2], sort = True).reset_index(drop = True)\n",
    "\n",
    "# Separa em dois DataFrames - Treinamento e Teste\n",
    "def unconcat_df(df, len_train):\n",
    "    return df.loc[:len_train - 1], df.loc[len_train:].drop([\"Survived\"], axis = 1)\n",
    "\n",
    "#Leitura dos arquivos de teste e treinamento\n",
    "df_train = pd.read_csv(\"./Data/train.csv\")\n",
    "df_test  = pd.read_csv(\"./Data/test.csv\")\n",
    "\n",
    "#Número entradas em cada parte dos dados\n",
    "len_train = len(df_train)\n",
    "len_test  = len(df_test)\n",
    "\n",
    "# Data frame contendo todos os valores test + train\n",
    "# Será utilizado para fazer as correções de 'missing values' e depois gerará os dois grupos (train e test)\n",
    "df_all = concat_df(df_train, df_test)\n",
    "\n",
    "#Nome dos DataFrames\n",
    "df_train.name = 'Grupo de Treinamento'\n",
    "df_test.name = 'Grupo de Teste'\n",
    "df_all.name = 'Grupo Completo'\n",
    "\n",
    "print('Formato do grupo de treinamento = {}'.format(df_train.shape))\n",
    "print('Formato do grupo de teste = {}\\n'.format(df_test.shape))"
   ]
  },
  {
   "cell_type": "code",
   "execution_count": 25,
   "metadata": {},
   "outputs": [
    {
     "name": "stdout",
     "output_type": "stream",
     "text": [
      "<class 'pandas.core.frame.DataFrame'>\n",
      "RangeIndex: 891 entries, 0 to 890\n",
      "Data columns (total 12 columns):\n",
      "PassengerId    891 non-null int64\n",
      "Survived       891 non-null int64\n",
      "Pclass         891 non-null int64\n",
      "Name           891 non-null object\n",
      "Sex            891 non-null object\n",
      "Age            714 non-null float64\n",
      "SibSp          891 non-null int64\n",
      "Parch          891 non-null int64\n",
      "Ticket         891 non-null object\n",
      "Fare           891 non-null float64\n",
      "Cabin          204 non-null object\n",
      "Embarked       889 non-null object\n",
      "dtypes: float64(2), int64(5), object(5)\n",
      "memory usage: 83.7+ KB\n"
     ]
    },
    {
     "data": {
      "text/html": [
       "<div>\n",
       "<style scoped>\n",
       "    .dataframe tbody tr th:only-of-type {\n",
       "        vertical-align: middle;\n",
       "    }\n",
       "\n",
       "    .dataframe tbody tr th {\n",
       "        vertical-align: top;\n",
       "    }\n",
       "\n",
       "    .dataframe thead th {\n",
       "        text-align: right;\n",
       "    }\n",
       "</style>\n",
       "<table border=\"1\" class=\"dataframe\">\n",
       "  <thead>\n",
       "    <tr style=\"text-align: right;\">\n",
       "      <th></th>\n",
       "      <th>PassengerId</th>\n",
       "      <th>Survived</th>\n",
       "      <th>Pclass</th>\n",
       "      <th>Name</th>\n",
       "      <th>Sex</th>\n",
       "      <th>Age</th>\n",
       "      <th>SibSp</th>\n",
       "      <th>Parch</th>\n",
       "      <th>Ticket</th>\n",
       "      <th>Fare</th>\n",
       "      <th>Cabin</th>\n",
       "      <th>Embarked</th>\n",
       "    </tr>\n",
       "  </thead>\n",
       "  <tbody>\n",
       "    <tr>\n",
       "      <td>869</td>\n",
       "      <td>870</td>\n",
       "      <td>1</td>\n",
       "      <td>3</td>\n",
       "      <td>Johnson, Master. Harold Theodor</td>\n",
       "      <td>male</td>\n",
       "      <td>4.0</td>\n",
       "      <td>1</td>\n",
       "      <td>1</td>\n",
       "      <td>347742</td>\n",
       "      <td>11.1333</td>\n",
       "      <td>NaN</td>\n",
       "      <td>S</td>\n",
       "    </tr>\n",
       "    <tr>\n",
       "      <td>144</td>\n",
       "      <td>145</td>\n",
       "      <td>0</td>\n",
       "      <td>2</td>\n",
       "      <td>Andrew, Mr. Edgardo Samuel</td>\n",
       "      <td>male</td>\n",
       "      <td>18.0</td>\n",
       "      <td>0</td>\n",
       "      <td>0</td>\n",
       "      <td>231945</td>\n",
       "      <td>11.5000</td>\n",
       "      <td>NaN</td>\n",
       "      <td>S</td>\n",
       "    </tr>\n",
       "    <tr>\n",
       "      <td>578</td>\n",
       "      <td>579</td>\n",
       "      <td>0</td>\n",
       "      <td>3</td>\n",
       "      <td>Caram, Mrs. Joseph (Maria Elias)</td>\n",
       "      <td>female</td>\n",
       "      <td>NaN</td>\n",
       "      <td>1</td>\n",
       "      <td>0</td>\n",
       "      <td>2689</td>\n",
       "      <td>14.4583</td>\n",
       "      <td>NaN</td>\n",
       "      <td>C</td>\n",
       "    </tr>\n",
       "  </tbody>\n",
       "</table>\n",
       "</div>"
      ],
      "text/plain": [
       "     PassengerId  Survived  Pclass                              Name     Sex  \\\n",
       "869          870         1       3   Johnson, Master. Harold Theodor    male   \n",
       "144          145         0       2        Andrew, Mr. Edgardo Samuel    male   \n",
       "578          579         0       3  Caram, Mrs. Joseph (Maria Elias)  female   \n",
       "\n",
       "      Age  SibSp  Parch  Ticket     Fare Cabin Embarked  \n",
       "869   4.0      1      1  347742  11.1333   NaN        S  \n",
       "144  18.0      0      0  231945  11.5000   NaN        S  \n",
       "578   NaN      1      0    2689  14.4583   NaN        C  "
      ]
     },
     "execution_count": 25,
     "metadata": {},
     "output_type": "execute_result"
    }
   ],
   "source": [
    "df_train.info()\n",
    "df_train.sample(3)"
   ]
  },
  {
   "cell_type": "code",
   "execution_count": 26,
   "metadata": {},
   "outputs": [
    {
     "name": "stdout",
     "output_type": "stream",
     "text": [
      "<class 'pandas.core.frame.DataFrame'>\n",
      "RangeIndex: 418 entries, 0 to 417\n",
      "Data columns (total 11 columns):\n",
      "PassengerId    418 non-null int64\n",
      "Pclass         418 non-null int64\n",
      "Name           418 non-null object\n",
      "Sex            418 non-null object\n",
      "Age            332 non-null float64\n",
      "SibSp          418 non-null int64\n",
      "Parch          418 non-null int64\n",
      "Ticket         418 non-null object\n",
      "Fare           417 non-null float64\n",
      "Cabin          91 non-null object\n",
      "Embarked       418 non-null object\n",
      "dtypes: float64(2), int64(4), object(5)\n",
      "memory usage: 36.0+ KB\n"
     ]
    },
    {
     "data": {
      "text/html": [
       "<div>\n",
       "<style scoped>\n",
       "    .dataframe tbody tr th:only-of-type {\n",
       "        vertical-align: middle;\n",
       "    }\n",
       "\n",
       "    .dataframe tbody tr th {\n",
       "        vertical-align: top;\n",
       "    }\n",
       "\n",
       "    .dataframe thead th {\n",
       "        text-align: right;\n",
       "    }\n",
       "</style>\n",
       "<table border=\"1\" class=\"dataframe\">\n",
       "  <thead>\n",
       "    <tr style=\"text-align: right;\">\n",
       "      <th></th>\n",
       "      <th>PassengerId</th>\n",
       "      <th>Pclass</th>\n",
       "      <th>Name</th>\n",
       "      <th>Sex</th>\n",
       "      <th>Age</th>\n",
       "      <th>SibSp</th>\n",
       "      <th>Parch</th>\n",
       "      <th>Ticket</th>\n",
       "      <th>Fare</th>\n",
       "      <th>Cabin</th>\n",
       "      <th>Embarked</th>\n",
       "    </tr>\n",
       "  </thead>\n",
       "  <tbody>\n",
       "    <tr>\n",
       "      <td>257</td>\n",
       "      <td>1149</td>\n",
       "      <td>3</td>\n",
       "      <td>Niklasson, Mr. Samuel</td>\n",
       "      <td>male</td>\n",
       "      <td>28.0</td>\n",
       "      <td>0</td>\n",
       "      <td>0</td>\n",
       "      <td>363611</td>\n",
       "      <td>8.0500</td>\n",
       "      <td>NaN</td>\n",
       "      <td>S</td>\n",
       "    </tr>\n",
       "    <tr>\n",
       "      <td>315</td>\n",
       "      <td>1207</td>\n",
       "      <td>3</td>\n",
       "      <td>Hagardon, Miss. Kate</td>\n",
       "      <td>female</td>\n",
       "      <td>17.0</td>\n",
       "      <td>0</td>\n",
       "      <td>0</td>\n",
       "      <td>AQ/3. 30631</td>\n",
       "      <td>7.7333</td>\n",
       "      <td>NaN</td>\n",
       "      <td>Q</td>\n",
       "    </tr>\n",
       "    <tr>\n",
       "      <td>348</td>\n",
       "      <td>1240</td>\n",
       "      <td>2</td>\n",
       "      <td>Giles, Mr. Ralph</td>\n",
       "      <td>male</td>\n",
       "      <td>24.0</td>\n",
       "      <td>0</td>\n",
       "      <td>0</td>\n",
       "      <td>248726</td>\n",
       "      <td>13.5000</td>\n",
       "      <td>NaN</td>\n",
       "      <td>S</td>\n",
       "    </tr>\n",
       "  </tbody>\n",
       "</table>\n",
       "</div>"
      ],
      "text/plain": [
       "     PassengerId  Pclass                   Name     Sex   Age  SibSp  Parch  \\\n",
       "257         1149       3  Niklasson, Mr. Samuel    male  28.0      0      0   \n",
       "315         1207       3   Hagardon, Miss. Kate  female  17.0      0      0   \n",
       "348         1240       2       Giles, Mr. Ralph    male  24.0      0      0   \n",
       "\n",
       "          Ticket     Fare Cabin Embarked  \n",
       "257       363611   8.0500   NaN        S  \n",
       "315  AQ/3. 30631   7.7333   NaN        Q  \n",
       "348       248726  13.5000   NaN        S  "
      ]
     },
     "execution_count": 26,
     "metadata": {},
     "output_type": "execute_result"
    }
   ],
   "source": [
    "df_test.info()\n",
    "df_test.sample(3)"
   ]
  },
  {
   "cell_type": "markdown",
   "metadata": {},
   "source": [
    "# 1. Preprocessamento e manipulação\n",
    "\n",
    "* `PassengerId` identificação do passageiro, irrelevante para a análise\n",
    "* `Survived` variável que desejamos prever (**0** or **1**):\n",
    "    - **1 = Sobreviveu**\n",
    "    - **0 = Não sobreviveu**\n",
    "* `Pclass` (Passenger Class) é o status socio-econômico do passageiro e é categorizado em entradas númericas com **3** valores únicos (**1**,  **2 **or **3**):\n",
    "    - **1 = Primeira Classe**\n",
    "    - **2 = Segunda Classe**\n",
    "    - **3 = Terceira Classe**\n",
    "* `Name`, `Sex` and `Age` são auto-explicativos\n",
    "* `SibSp` é o número total de irmãos e conjugês do passageiro\n",
    "* `Parch` é o número total de parentes ou filhos do passageiro\n",
    "* `Ticket` é o número do ticket do passageiro\n",
    "* `Fare` é o valor pago pelo passageiro\n",
    "* `Cabin` é a cabine do passageiro\n",
    "* `Embarked` é o porto por qual o passageiro embarcou e é categorizado por 3 valores únicos (**C**, **Q** or **S**):\n",
    "    - **C = Cherbourg**\n",
    "    - **Q = Queenstown**\n",
    "    - **S = Southampton**"
   ]
  },
  {
   "cell_type": "markdown",
   "metadata": {},
   "source": [
    "## 1.1. Categorização dos Títulos Honoríficos\n",
    "\n",
    "O objetivo dessa subseção é categorizar os diferentes títulos presentes nos nomes dos passageiros, como por exemplo \"Braund, **Mr.** Owen Harris\" ou \"Bowerman, **Miss.** Elsie Edith\". Entretanto, como será possível ver, teremos muito títulos diferentes, o que dificulta qualquer tipo de análise e construção de modelo preditivo, assim, iremos mapear os títulos para 6 categorias mais abrangentes.\n",
    "\n",
    "Podemos ver que todos os nomes são compostos e estruturados da seguinte forma: **sobrenome**(virgula)**título**(ponto)(espaço)**nome**. Basta portanto, primeiramente separar o nome em virgulas, o que nós entrega uma lista da seguinte forma: [**sobrenome**, **título**(ponto)(espaço)**nome**]. Pegando o segundo elemento e agora separando em ponto temos [**título**,(espaço)**nome**]. Basta então pegar agora o primeiro elemento e temos o nosso título."
   ]
  },
  {
   "cell_type": "code",
   "execution_count": 27,
   "metadata": {},
   "outputs": [
    {
     "name": "stdout",
     "output_type": "stream",
     "text": [
      "Mr              757\n",
      "Miss            260\n",
      "Mrs             197\n",
      "Master           61\n",
      "Dr                8\n",
      "Rev               8\n",
      "Col               4\n",
      "Major             2\n",
      "Mlle              2\n",
      "Ms                2\n",
      "the Countess      1\n",
      "Don               1\n",
      "Jonkheer          1\n",
      "Sir               1\n",
      "Lady              1\n",
      "Dona              1\n",
      "Capt              1\n",
      "Mme               1\n",
      "Name: Title, dtype: int64 \n",
      "\n",
      "Mr         757\n",
      "Miss       262\n",
      "Mrs        200\n",
      "Master      61\n",
      "Officer     23\n",
      "Royalty      6\n",
      "Name: Title, dtype: int64\n"
     ]
    }
   ],
   "source": [
    "# Cria uma nova coluna 'Title' com os títulos dos passageiros para uma consequente extração\n",
    "df_all['Title'] = df_all.Name.apply(lambda name: name.split(',')[1].split('.')[0].strip())\n",
    "print(df_all['Title'].value_counts(),'\\n')\n",
    "\n",
    "# Mapeamento dos títulos\n",
    "map_titles = {\n",
    "    \"Capt\":       \"Officer\",\n",
    "    \"Col\":        \"Officer\",\n",
    "    \"Major\":      \"Officer\",\n",
    "    \"Jonkheer\":   \"Royalty\",\n",
    "    \"Don\":        \"Royalty\",\n",
    "    \"Sir\" :       \"Royalty\",\n",
    "    \"Dr\":         \"Officer\",\n",
    "    \"Rev\":        \"Officer\",\n",
    "    \"the Countess\":\"Royalty\",\n",
    "    \"Dona\":       \"Royalty\",\n",
    "    \"Mme\":        \"Mrs\",\n",
    "    \"Mlle\":       \"Miss\",\n",
    "    \"Ms\":         \"Mrs\",\n",
    "    \"Mr\" :        \"Mr\",\n",
    "    \"Mrs\" :       \"Mrs\",\n",
    "    \"Miss\" :      \"Miss\",\n",
    "    \"Master\" :    \"Master\",\n",
    "    \"Lady\" :      \"Royalty\"\n",
    "}\n",
    "\n",
    "# Aplicando nos dados\n",
    "df_all['Title'] = df_all['Title'].map(map_titles)\n",
    "print(df_all['Title'].value_counts())"
   ]
  },
  {
   "cell_type": "markdown",
   "metadata": {},
   "source": [
    "## 1.2. Dados faltando"
   ]
  },
  {
   "cell_type": "markdown",
   "metadata": {},
   "source": [
    "### 1.2.A. Idade\n",
    "\n",
    "Claramente usaremos algum tipo de média das idades para preencher os valores faltantes, entretanto, pessoas de diferentes esferas possuem idades médias diferentes, por exemplo, homens possuem uma idade média maior que mulheres, e por ai vai. Portanto precisamos saber quais esferas - Classe, Sexo, Título - mais se correlaciona com os valores de idade.\n",
    "\n",
    "Veremos que o parâmentro númerico que mais se relaciona com a idade é a classe social (Pclass) e vemos também que dentro das classes sociais a mulher sempre tem a menor idade média. Portanto vamos preencher os valores NaN com as médias respectivas de cada esfera."
   ]
  },
  {
   "cell_type": "code",
   "execution_count": 28,
   "metadata": {},
   "outputs": [
    {
     "name": "stdout",
     "output_type": "stream",
     "text": [
      "   Feature 1    Feature 2  Correlation Coefficient\n",
      "6        Age          Age                 1.000000\n",
      "9        Age       Pclass                 0.408106\n",
      "17       Age        SibSp                 0.243699\n",
      "22       Age         Fare                 0.178740\n",
      "25       Age        Parch                 0.150917\n",
      "29       Age     Survived                 0.077221\n",
      "41       Age  PassengerId                 0.028814 \n",
      "\n",
      "Pclass  Sex   \n",
      "1       female    36.0\n",
      "        male      42.0\n",
      "2       female    28.0\n",
      "        male      29.5\n",
      "3       female    22.0\n",
      "        male      25.0\n",
      "Name: Age, dtype: float64\n"
     ]
    }
   ],
   "source": [
    "# Correlação da idade com os parâmetros de valores númericos\n",
    "corr = df_all.corr().abs().unstack().sort_values(kind=\"quicksort\", ascending=False).reset_index()\n",
    "corr.rename(columns={\"level_0\": \"Feature 1\", \"level_1\": \"Feature 2\", 0: 'Correlation Coefficient'}, inplace=True)\n",
    "print(corr[corr['Feature 1'] == 'Age'],'\\n')\n",
    "\n",
    "# Agrupamento por 'Pclass' e 'Sex'\n",
    "print(df_all.groupby(['Pclass', 'Sex']).median()['Age'])\n",
    "\n",
    "# Preenchendo os valores faltantes com suas respectivas médias\n",
    "df_all['Age'] = df_all.groupby(['Sex', 'Pclass'])['Age'].apply(lambda x: x.fillna(x.median()))"
   ]
  },
  {
   "cell_type": "markdown",
   "metadata": {},
   "source": [
    "### 1.2.B. Porto embarcado"
   ]
  },
  {
   "cell_type": "code",
   "execution_count": 29,
   "metadata": {},
   "outputs": [
    {
     "name": "stdout",
     "output_type": "stream",
     "text": [
      "      Age Cabin Embarked  Fare                                       Name  \\\n",
      "61   38.0   B28      NaN  80.0                        Icard, Miss. Amelie   \n",
      "829  62.0   B28      NaN  80.0  Stone, Mrs. George Nelson (Martha Evelyn)   \n",
      "\n",
      "     Parch  PassengerId  Pclass     Sex  SibSp  Survived  Ticket Title  \n",
      "61       0           62       1  female      0       1.0  113572  Miss  \n",
      "829      0          830       1  female      0       1.0  113572   Mrs  \n"
     ]
    }
   ],
   "source": [
    "# Encontrando valores faltantes\n",
    "print(df_all[df_all['Embarked'].isnull()])"
   ]
  },
  {
   "cell_type": "markdown",
   "metadata": {},
   "source": [
    "Podemos ver que os únicos valoes que faltam na secção 'Embarked' são de duas mulheres de primeira classe que curiosamente estão na mesma cabine e possuem o mesmo ticket. Podemos então que elas se conhecem. Uma rápida busca no Google (https://www.encyclopedia-titanica.org/titanic-survivor/martha-evelyn-stone.html) nos fornece a informação que Martha Evelyn embarcou com sua empregada Amelie Icard no porto de **Southampton**."
   ]
  },
  {
   "cell_type": "code",
   "execution_count": 30,
   "metadata": {},
   "outputs": [],
   "source": [
    "# Preenchendo os valores faltantes\n",
    "df_all[\"Embarked\"] = df_all['Embarked'].fillna('S')"
   ]
  },
  {
   "cell_type": "markdown",
   "metadata": {},
   "source": [
    "### 1.2.C. Preço da passagem\n",
    "\n",
    "Podemos ver abaixo que o preço da passagem é bastante correlato com o tamanho da familia (**Parch** e **SibSp**) e a classe social (**Pclass**). Portanto faremos um procedimento similar ao da idade, agora agrupando por **Parch** **Pclass** e **SibSp**."
   ]
  },
  {
   "cell_type": "code",
   "execution_count": 31,
   "metadata": {},
   "outputs": [
    {
     "name": "stdout",
     "output_type": "stream",
     "text": [
      "   Feature 1    Feature 2  Correlation Coefficient\n",
      "2       Fare         Fare                 1.000000\n",
      "7       Fare       Pclass                 0.558629\n",
      "16      Fare     Survived                 0.257307\n",
      "20      Fare        Parch                 0.221539\n",
      "21      Fare          Age                 0.178740\n",
      "23      Fare        SibSp                 0.160238\n",
      "40      Fare  PassengerId                 0.031428\n"
     ]
    }
   ],
   "source": [
    "# Corelação entre Fare e outros parâmentros\n",
    "print(corr[corr['Feature 1'] == 'Fare'])\n",
    "\n",
    "# Calculando a tarifa média\n",
    "df_all['Fare'] = df_all.groupby(['Pclass', 'SibSp', 'Parch']).Fare.apply(lambda x: x.fillna(x.median()))"
   ]
  },
  {
   "cell_type": "markdown",
   "metadata": {},
   "source": [
    "### 1.2.D. Cabine\n",
    "\n",
    "Com relação às cabines temos o mesmo problema dos títulos, muitas categorias. Teremos que fazer uma análise da composição de cada categoria para que possamos saber como agrupar-las. Analisando a enciclopedia titanica é possível descobrir que a letra presente na cabine representa o deck, com essa informação podemos criar uma nova coluna para armazena-la."
   ]
  },
  {
   "cell_type": "code",
   "execution_count": 32,
   "metadata": {},
   "outputs": [
    {
     "name": "stdout",
     "output_type": "stream",
     "text": [
      "Deck     A   B   C   D      E         F     G   M            T\n",
      "Pclass   1   1   1   1  2   1  2  3   2  3  3   1    2    3  1\n",
      "Name    22  65  94  40  6  34  4  3  13  8  5  67  254  693  1\n"
     ]
    }
   ],
   "source": [
    "# Criação de uma coluna com os decks\n",
    "df_all['Deck'] = df_all['Cabin'].apply(lambda s: s[0] if pd.notnull(s) else 'M')\n",
    "\n",
    "df_all_deck = df_all.groupby(['Deck', \n",
    "                              'Pclass']).count().drop(columns = ['Age','Cabin',\n",
    "                                                               'Embarked','Fare',\n",
    "                                                               'Parch','PassengerId',\n",
    "                                                               'Sex', 'SibSp',\n",
    "                                                               'Survived',\n",
    "                                                               'Ticket',\n",
    "                                                               'Title']).rename({'Name': 'Counts'}).transpose()\n",
    "print(df_all_deck)"
   ]
  },
  {
   "cell_type": "markdown",
   "metadata": {},
   "source": [
    "* Decks **A**,**B** e **C**: **100% primeira classe**\n",
    "* Deck **D**: **86,96% primeira classe** e **13,01% segunda classe**\n",
    "* Deck **E**: **82,9% primeira classe**, **9,8% segunda classe** e **7,3% terceira classe**\n",
    "* Deck **F**: **61,9% segunda classe**, **38,1% terceira classe**\n",
    "* Deck **G**: **100% terceira classe**\n",
    "\n",
    "Como o passageiro na classe **T** também é da primeira classe é recomendado coloca-lo na cabine **A**."
   ]
  },
  {
   "cell_type": "code",
   "execution_count": 33,
   "metadata": {},
   "outputs": [],
   "source": [
    "# mudando a cabine T para A\n",
    "\n",
    "idx = df_all[df_all['Deck'] == 'T'].index\n",
    "df_all.loc[idx,'Deck'] = 'A'"
   ]
  },
  {
   "cell_type": "markdown",
   "metadata": {},
   "source": [
    "No momento o parâmetro cabine tem uma alta cardinalidade, então é de interesse analisar a taxa de sobrevivência dos Decks para que possamos agrupar decks com caracteristicas similares"
   ]
  },
  {
   "cell_type": "code",
   "execution_count": 42,
   "metadata": {},
   "outputs": [
    {
     "name": "stdout",
     "output_type": "stream",
     "text": [
      "Deck       A       B       C       D       E       F       G        M     \n",
      "Survived 0.0 1.0 0.0 1.0 0.0 1.0 0.0 1.0 0.0 1.0 0.0 1.0 0.0 1.0  0.0  1.0\n",
      "Name       9   7  12  35  24  35   8  25   8  24   5   8   2   2  481  206\n"
     ]
    }
   ],
   "source": [
    "df_all_survived = df_all.groupby(['Deck', \n",
    "                              'Survived']).count().drop(columns = ['Age','Cabin',\n",
    "                                                               'Embarked','Fare',\n",
    "                                                               'Parch','PassengerId',\n",
    "                                                               'Sex', 'SibSp',\n",
    "                                                               'Pclass',\n",
    "                                                               'Ticket',\n",
    "                                                               'Title']).rename({'Name': 'Counts'}).transpose()\n",
    "\n",
    "print(df_all_survived)"
   ]
  },
  {
   "cell_type": "markdown",
   "metadata": {},
   "source": [
    "* Deck A: **43,7%** sobreviveram\n",
    "* Deck B: **74,5%** sobreviveram\n",
    "* Deck C: **59,3%** sobreviveram\n",
    "* Deck D: **75,8%** sobreviveram\n",
    "* Deck E: **75%** sobreviveram\n",
    "* Deck F: **61,5%** sobreviveram\n",
    "* Deck G: **50%** sobreviveram\n",
    "* Deck M: **29,9%** sobrevivera\n",
    "\n",
    "Decks com classes mais altas possuem maior chance de sobrevivência. Podemos agrupar os decks **A**, **B** e **C** em um só **ABC**. Façamos isso com as outras cabines que apresentam caracteristicas igual como classe pertencente e taxa de sobrevivência:\n",
    "\n",
    "* A, B e C -> **ABC**\n",
    "* D e E -> **DE**\n",
    "* F e G -> **FG**"
   ]
  },
  {
   "cell_type": "code",
   "execution_count": 46,
   "metadata": {},
   "outputs": [
    {
     "data": {
      "text/plain": [
       "M      1014\n",
       "ABC     182\n",
       "DE       87\n",
       "FG       26\n",
       "Name: Deck, dtype: int64"
      ]
     },
     "execution_count": 46,
     "metadata": {},
     "output_type": "execute_result"
    }
   ],
   "source": [
    "df_all['Deck'] = df_all['Deck'].replace(['A', 'B', 'C'], 'ABC')\n",
    "df_all['Deck'] = df_all['Deck'].replace(['D', 'E'], 'DE')\n",
    "df_all['Deck'] = df_all['Deck'].replace(['F','G'], 'FG')\n",
    "\n",
    "df_all['Deck'].value_counts()"
   ]
  },
  {
   "cell_type": "code",
   "execution_count": null,
   "metadata": {},
   "outputs": [],
   "source": []
  }
 ],
 "metadata": {
  "kernelspec": {
   "display_name": "Python 3",
   "language": "python",
   "name": "python3"
  },
  "language_info": {
   "codemirror_mode": {
    "name": "ipython",
    "version": 3
   },
   "file_extension": ".py",
   "mimetype": "text/x-python",
   "name": "python",
   "nbconvert_exporter": "python",
   "pygments_lexer": "ipython3",
   "version": "3.7.4"
  }
 },
 "nbformat": 4,
 "nbformat_minor": 2
}
